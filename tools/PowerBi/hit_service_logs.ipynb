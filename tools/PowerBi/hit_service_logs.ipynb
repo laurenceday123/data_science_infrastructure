{
 "cells": [
  {
   "cell_type": "markdown",
   "metadata": {},
   "source": [
    "# Modelling Tools - Logs and hit service\n",
    "Use this notebook to:\n",
    "- Hit the live service\n",
    "- Access and Parse the ACI logs"
   ]
  },
  {
   "cell_type": "code",
   "execution_count": null,
   "metadata": {},
   "outputs": [],
   "source": [
    "\"\"\"\n",
    "\n",
    "Naming Conventions:\n",
    "\n",
    "Package:            thispackage (short name)\n",
    "Module:             this_module (short name)\n",
    "Class:              ThisIsAClass\n",
    "Function:           this_is_a_function\n",
    "Public Method:      this_is_a_public_method\n",
    "Non-Public Method:  _this_is_a_non_public_method\n",
    "Variables:          thisIsAVariable\n",
    "Constant:           THIS_IS_A_CONSTANT\n",
    "DataFrame:          dfThisIsADataFrame\n",
    "List:               lsThisIsAList\n",
    "Array:              arThisIsAnArray\n",
    "Series:             srThisIsASeries\n",
    "\n",
    "\"\"\"\n",
    "__status__ = \"development\"\n",
    "__version__ = '1.0.0'\n",
    "__date__ = \"26 Oct 2020\"\n",
    "__author__ = 'Laurence Day,Chris Pickford,Laurence Day'"
   ]
  },
  {
   "cell_type": "code",
   "execution_count": null,
   "metadata": {},
   "outputs": [],
   "source": [
    "###########################################################\n",
    "###########################################################\n",
    "\n",
    "# What github repository are you using?\n",
    "\n",
    "project = \"github repo name\"\n",
    "\n",
    "# Set the service name before continuing\n",
    "\n",
    "serviceName = ''\n",
    "\n",
    "# What is the name of the model as used in the deployment json and in score.py?\n",
    "\n",
    "model_name = \"\"\n",
    "\n",
    "# What subscription is this in \n",
    "\n",
    "deploymentEnvironment = ''\n",
    "\n",
    "\n",
    "\n",
    "###########################################################\n",
    "###########################################################"
   ]
  },
  {
   "cell_type": "code",
   "execution_count": null,
   "metadata": {},
   "outputs": [],
   "source": [
    "%matplotlib inline\n",
    "import numpy as np\n",
    "import matplotlib.pyplot as plt\n",
    "from pandas.io.json import json_normalize \n",
    "import pandas as pd\n",
    "import azureml.core\n",
    "import os\n",
    "import pickle\n",
    "import sys\n",
    "import json\n",
    "import random\n",
    "import requests\n",
    "\n",
    "from azureml.core import Workspace, Webservice\n",
    "from azureml.core.model import Model\n",
    "\n",
    "\n",
    "# display the core SDK version number\n",
    "print(\"Azure ML SDK Version: \", azureml.core.VERSION)"
   ]
  },
  {
   "cell_type": "markdown",
   "metadata": {},
   "source": [
    "## Specify subscription and model name"
   ]
  },
  {
   "cell_type": "code",
   "execution_count": null,
   "metadata": {},
   "outputs": [],
   "source": [
    "### CHANGE TO YOUR WORKSPACE\n",
    "\n",
    "ws = Workspace(\n",
    "    workspace_name=workspace_name, \n",
    "    subscription_id=subscription_id, \n",
    "    resource_group=resource_group)\n",
    "display(ws)\n",
    "\n",
    "\n",
    "print('Referencing:', deploymentEnvironment)\n",
    "\n",
    "\n"
   ]
  },
  {
   "cell_type": "code",
   "execution_count": null,
   "metadata": {},
   "outputs": [],
   "source": [
    "ws"
   ]
  },
  {
   "cell_type": "code",
   "execution_count": null,
   "metadata": {},
   "outputs": [],
   "source": [
    "serviceName"
   ]
  },
  {
   "cell_type": "code",
   "execution_count": null,
   "metadata": {},
   "outputs": [],
   "source": [
    "service = Webservice(ws, serviceName)\n",
    "service"
   ]
  },
  {
   "cell_type": "markdown",
   "metadata": {},
   "source": [
    "# Step 1: Hit Service"
   ]
  },
  {
   "cell_type": "code",
   "execution_count": null,
   "metadata": {},
   "outputs": [],
   "source": [
    "def hit_service(TestData_json):\n",
    "    import requests\n",
    "    key, secondary = service.get_keys() \n",
    "    headers = {'Content-Type':'application/json',  'Authorization':('Bearer '+ key)}\n",
    "    resp = requests.post(service.scoring_uri, TestData_json, headers=headers)\n",
    "    print(resp)\n",
    "    print(resp.text)\n",
    "    #print(resp.json())\n",
    "\n",
    "class NpEncoder(json.JSONEncoder):\n",
    "    def default(self, obj):\n",
    "        if isinstance(obj, np.integer):\n",
    "            return int(obj)\n",
    "        elif isinstance(obj, np.floating ):\n",
    "            return float(obj)\n",
    "        elif isinstance(obj, np.ndarray):\n",
    "            return obj.tolist()\n",
    "        else:\n",
    "            return super(NpEncoder, self).default(obj)      "
   ]
  },
  {
   "cell_type": "markdown",
   "metadata": {},
   "source": [
    "## Setup Payload"
   ]
  },
  {
   "cell_type": "markdown",
   "metadata": {},
   "source": [
    "### Generate manual simulated payload\n",
    "Each payload is hardcoded to give a set outcome"
   ]
  },
  {
   "cell_type": "code",
   "execution_count": null,
   "metadata": {},
   "outputs": [],
   "source": [
    "def generate_payload():\n",
    "    lsTestData = []\n",
    "    jsonPayload = {\n",
    "        \n",
    "    }\n",
    "\n",
    "    jsonPayload = json.dumps(jsonPayload, cls=NpEncoder)\n",
    "    jsonTest = json.loads(jsonPayload)   \n",
    "    return jsonTest"
   ]
  },
  {
   "cell_type": "markdown",
   "metadata": {},
   "source": [
    "### Generate payload from normal distributions"
   ]
  },
  {
   "cell_type": "code",
   "execution_count": null,
   "metadata": {},
   "outputs": [],
   "source": [
    "def payload_chance(chance):\n",
    "    \n",
    "    if random.random() >=1-chance:\n",
    "        return True\n",
    "    else:\n",
    "        return False\n",
    "    \n",
    "def generate_json(inputs, uniqueIdentifier):\n",
    "    \n",
    "    master = {\n",
    "    \"1\": uniqueIdentifier,\n",
    "    \"2\" : np.random.normal(6000, 1000, 1)[0],\n",
    "    \"3\" : np.random.normal(35, 7, 1)[0],\n",
    "    \"4\" : np.random.normal(1500, 700, 1)[0],\n",
    "    \"5\" : np.random.normal(6000, 1000, 1)[0],\n",
    "    \"6\" : \"x\",\n",
    "    \"7\": 1,\n",
    "    \"8\": \"y\",\n",
    "    \"9\": \"z\",\n",
    "    \"10\" : {\"score\": np.random.normal(400, 100, 1)[0]}\n",
    "    }\n",
    "    \n",
    "    payload = {}\n",
    "    for component in inputs:\n",
    "        payload[component] = master[component]\n",
    "    payload['uniqueIdentifier'] = uniqueIdentifier\n",
    "    payload = json.dumps(payload, cls=NpEncoder)\n",
    "    return json.loads(payload)\n",
    "    \n",
    "\n",
    "def create_payload(id):\n",
    "    \n",
    "    colsOfInterest = [\"\",\"\",\"\",\"\",\"\",\"\",\"\",\"\",\"\"]\n",
    "    if payload_chance(.9):\n",
    "        print('Good payload')\n",
    "        return generate_json(colsOfInterest,id)\n",
    "    else:\n",
    "        if payload_chance(.6):\n",
    "            print('warning payload')\n",
    "            randCol = random.choice(colsOfInterest)\n",
    "            colsOfInterest.remove(random.choice(colsOfInterest))\n",
    "            return generate_json(colsOfInterest,id)\n",
    "        else:\n",
    "            print('hard fail payload')\n",
    "            return generate_json([],id)\n"
   ]
  },
  {
   "cell_type": "markdown",
   "metadata": {},
   "source": [
    "### Hit the service with simulated data"
   ]
  },
  {
   "cell_type": "code",
   "execution_count": null,
   "metadata": {
    "scrolled": true
   },
   "outputs": [],
   "source": [
    "for i in range(1,2,1):        \n",
    "    jsonPayload = create_payload(i)\n",
    "    #print(jsonPayload)\n",
    "    hit_service(json.dumps(jsonPayload, cls=NpEncoder))"
   ]
  },
  {
   "cell_type": "markdown",
   "metadata": {},
   "source": [
    "# Step 2: Obtain and Parse Logs"
   ]
  },
  {
   "cell_type": "code",
   "execution_count": null,
   "metadata": {},
   "outputs": [],
   "source": [
    "import re\n",
    "import ast\n",
    "import json\n",
    "from IPython.display import display"
   ]
  },
  {
   "cell_type": "markdown",
   "metadata": {},
   "source": [
    "### Obtain payload hitting the container"
   ]
  },
  {
   "cell_type": "code",
   "execution_count": null,
   "metadata": {
    "collapsed": true,
    "jupyter": {
     "outputs_hidden": true
    }
   },
   "outputs": [],
   "source": [
    "logs = service.get_logs(num_lines=99900000)\n",
    "lslogs = logs.split('\\n')\n",
    "foundTimeStamp =False\n",
    "\n",
    "lsPayloads = []\n",
    "i = 0\n",
    "for log in lslogs: \n",
    "    try:\n",
    "        if ' - - [' in log:\n",
    "            #print(log)\n",
    "            timestamp = re.search('127.0.0.1 - - \\[(.*) \\+',log).group(1)\n",
    "            #print(timestamp)\n",
    "            foundTimeStamp = True\n",
    "            \n",
    "        if 'Received input' in log and foundTimeStamp: # or '/score' in log: \n",
    "            #print(timestamp)\n",
    "            log = log.replace('Received input: ', '')\n",
    "            loadedLog = json.loads(log)\n",
    "            loadedLog['timeStamp'] = timestamp\n",
    "            lsPayloads.append(loadedLog)\n",
    "            foundTimeStamp = False\n",
    "            \n",
    "        \n",
    "    except:\n",
    "        print(log)\n",
    "        #pass\n",
    "    i+=1\n",
    "    \n",
    "dfPayloads = pd.DataFrame.from_records(lsPayloads)\n",
    "dfPayloads['timeStamp'] = pd.to_datetime(dfLogs['timeStamp'],format = '%d/%b/%Y:%H:%M:%S',dayfirst=False,yearfirst=False)\n",
    "\n",
    "display(dfLogs)"
   ]
  },
  {
   "cell_type": "code",
   "execution_count": null,
   "metadata": {},
   "outputs": [],
   "source": [
    "# dfPayloads.to_csv('OriginalPayload.csv')"
   ]
  },
  {
   "cell_type": "markdown",
   "metadata": {},
   "source": [
    "### Obtain logs writen by Score.py"
   ]
  },
  {
   "cell_type": "code",
   "execution_count": null,
   "metadata": {
    "collapsed": true,
    "jupyter": {
     "outputs_hidden": true
    }
   },
   "outputs": [],
   "source": [
    "logs = service.get_logs(num_lines=99900000)\n",
    "lslogs = logs.split('\\n')\n",
    "lsOutcomes = []\n",
    "i = 0\n",
    "for log in lslogs: \n",
    "    if ' - - [' in log:\n",
    "        #print(log)\n",
    "        timestamp = re.search('127.0.0.1 - - \\[(.*) \\+',log).group(1)\n",
    "        #print(timestamp)\n",
    "        \n",
    "    if '\"ApplicationId\"' in log and 'Received input' not in log: # or '/score' in log: \n",
    "        #print(log, i)\n",
    "        loadedLog = json.loads(log)\n",
    "        loadedLog['timeStamp'] = timestamp\n",
    "        lsOutcomes.append(loadedLog)\n",
    "        #print(log_to_df)\n",
    "    \n",
    "        \n",
    "    i+=1\n",
    "dfLogs = pd.DataFrame.from_records(lsOutcomes)\n",
    "dfLogs['timeStamp'] = pd.to_datetime(dfLogs['timeStamp'],format = '%d/%b/%Y:%H:%M:%S',dayfirst=False,yearfirst=False)\n",
    "dfLogs = dfLogs[['timeStamp','Service','Severity']].join(pd.DataFrame.from_dict([l for l in dfLogs['Message']if type(l) is dict]))\n",
    "dfLogs['ApplicationId'] = dfLogs['ApplicationId'].str.replace('[','').str.replace(']','')#.astype(int)\n",
    "\n",
    "display(dfLogs)"
   ]
  },
  {
   "cell_type": "markdown",
   "metadata": {},
   "source": [
    "### Look at raw service logs"
   ]
  },
  {
   "cell_type": "code",
   "execution_count": null,
   "metadata": {
    "scrolled": true
   },
   "outputs": [],
   "source": [
    "import pprint as pp\n",
    "pp.pprint(service.get_logs())"
   ]
  },
  {
   "cell_type": "code",
   "execution_count": null,
   "metadata": {},
   "outputs": [],
   "source": []
  }
 ],
 "metadata": {
  "kernelspec": {
   "display_name": "intent_model",
   "language": "python",
   "name": "intent_score"
  },
  "language_info": {
   "codemirror_mode": {
    "name": "ipython",
    "version": 3
   },
   "file_extension": ".py",
   "mimetype": "text/x-python",
   "name": "python",
   "nbconvert_exporter": "python",
   "pygments_lexer": "ipython3",
   "version": "3.6.12"
  }
 },
 "nbformat": 4,
 "nbformat_minor": 4
}
