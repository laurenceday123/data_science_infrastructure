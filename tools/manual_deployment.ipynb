{
 "cells": [
  {
   "cell_type": "markdown",
   "metadata": {},
   "source": [
    "# Template Deployment Script"
   ]
  },
  {
   "cell_type": "code",
   "execution_count": null,
   "metadata": {
    "scrolled": true
   },
   "outputs": [],
   "source": [
    "%matplotlib inline\n",
    "import numpy as np\n",
    "import matplotlib.pyplot as plt\n",
    "import pandas as pd\n",
    "import azureml.core\n",
    "import os\n",
    "import pickle\n",
    "import catboost\n",
    "import sys\n",
    "import json\n",
    "\n",
    "from azureml.core import Workspace, Webservice\n",
    "from azureml.core.model import Model\n",
    "\n",
    "%load_ext autoreload\n",
    "%autoreload 2\n",
    "\n",
    "# display the core SDK version number\n",
    "print(\"Azure ML SDK Version: \", azureml.core.VERSION)"
   ]
  },
  {
   "cell_type": "code",
   "execution_count": null,
   "metadata": {},
   "outputs": [],
   "source": [
    "###########################################################\n",
    "###########################################################\n",
    "\n",
    "# What github repository are you using?\n",
    "\n",
    "project = \"github repo name\"\n",
    "\n",
    "# Set the service name before continuing\n",
    "\n",
    "serviceName = ''\n",
    "\n",
    "# What is the name of the model as used in the deployment json and in score.py?\n",
    "\n",
    "model_name = \"\"\n",
    "\n",
    "# What subscription is this in\n",
    "\n",
    "deploymentEnvironment = ''\n",
    "\n",
    "\n",
    "\n",
    "###########################################################\n",
    "###########################################################"
   ]
  },
  {
   "cell_type": "code",
   "execution_count": null,
   "metadata": {},
   "outputs": [],
   "source": [
    "### CHANGE TO YOUR WORKSPACE\n",
    "\n",
    "ws = Workspace(\n",
    "    workspace_name=workspace_name, \n",
    "    subscription_id=subscription_id, \n",
    "    resource_group=resource_group)\n",
    "display(ws)\n",
    "\n",
    "\n",
    "print('Referencing:', deploymentEnvironment)"
   ]
  },
  {
   "cell_type": "code",
   "execution_count": null,
   "metadata": {},
   "outputs": [],
   "source": [
    "%load_ext autoreload\n",
    "%autoreload 2\n",
    "from datascience_core.codecandy import jupyter as candy\n"
   ]
  },
  {
   "cell_type": "markdown",
   "metadata": {},
   "source": [
    "## Point to your workspace"
   ]
  },
  {
   "cell_type": "markdown",
   "metadata": {},
   "source": [
    "## Load in the model and register in the service - note if you do this twice it creates a second version"
   ]
  },
  {
   "cell_type": "code",
   "execution_count": null,
   "metadata": {},
   "outputs": [],
   "source": [
    "if False:\n",
    "    model = Model.register(workspace = ws,\n",
    "                             model_path =model_path,\n",
    "                             model_name = model_name,\n",
    "                             description = serviceDescription,)"
   ]
  },
  {
   "cell_type": "markdown",
   "metadata": {},
   "source": [
    "## Check the model exists and point to it for deployment later"
   ]
  },
  {
   "cell_type": "code",
   "execution_count": null,
   "metadata": {},
   "outputs": [],
   "source": [
    "model=Model(ws, model_name)\n",
    "#model.download(target_dir=os.getcwd(), exist_ok=True) # download the model if you wish\n",
    "model"
   ]
  },
  {
   "cell_type": "markdown",
   "metadata": {},
   "source": [
    "## Create and write the score.py script that deploys within the service"
   ]
  },
  {
   "cell_type": "code",
   "execution_count": null,
   "metadata": {},
   "outputs": [],
   "source": [
    "%%writefile score.py\n",
    "import json\n",
    "import numpy as np\n",
    "import pandas as pd\n",
    "import os\n",
    "import pickle\n",
    "import copy\n",
    "from random import random\n",
    "from sklearn.externals import joblib\n",
    "from sklearn.linear_model import LogisticRegression\n",
    "import catboost\n",
    "from pandas import json_normalize  \n",
    "from azureml.core.model import Model\n",
    "import datetime\n",
    "import logging \n",
    "\n",
    "def log_it(service,message,severity):\n",
    "    lsSeverity = ['PASS', 'WARNING', 'ERROR', 'PAYLOAD', 'RESULT']\n",
    "    if severity in lsSeverity:\n",
    "        try:\n",
    "            json.loads(message)\n",
    "            message = '{' + '\"Service\":\"{}\", \"Severity\":\"{}\", \"Message\":{}'.format(service,severity,message) + '}'\n",
    "        except:\n",
    "            message = '{' + '\"Service\":\"{}\", \"Severity\":\"{}\", \"Message\":{}'.format(service,severity,message) + '}'\n",
    "        print(message)\n",
    "    else:\n",
    "        message = '{' + '\"Service\":\"{}\", \"Severity\":\"{}\", \"Message\":{}'\\\n",
    "            .format(service, 'LOGGING FAIL', '{' + '\"Event\": \"Severity level not recognised, refer to score.py\"' + '}') \\\n",
    "                  + '}'\n",
    "        print(message)\n",
    "\n",
    "\n",
    "\n",
    "def init():\n",
    "    # Init is only run once when the docker container is created so don't try to set any variables here that wil be passed as json later\n",
    "    global model\n",
    "    # Set the default model CHECK THIS IS RIGHT IT MUST EXIST\n",
    "    model_path = Model.get_model_path(\"modelName\")\n",
    "    model = joblib.load(model_path)\n",
    "    \n",
    "    \n",
    "def run(raw_data):\n",
    "    service = 'ServiceName'\n",
    "    try:\n",
    "\n",
    "        messageStart = '{' + '\"someId\": \"{}\", \"Event\": \"{}\"'.format(applicationids, 'scoring initiated') + '}'\n",
    "        log_it(service, messageStart,'PASS')\n",
    "        log_it(service, raw_data, 'PAYLOAD')\n",
    "\n",
    "       \n",
    "         # Pull predictors from the model\n",
    "        predictors = model.feature_names_\n",
    "\n",
    "         # Fill the predictors I don't have with 0\n",
    "        for col in predictors:\n",
    "            if col not in test_data.columns:\n",
    "                test_data[col] = 0\n",
    "                messageColMissing = '{' + '\"someId\": \"{}\", \"Event\": \"{}\", \"Item\": \"{}\"'.format(applicationids, 'MissingCol', col) + '}'\n",
    "                log_it(service, messageColMissing,'WARNING')\n",
    "\n",
    "        # Loop through each json payload and find a result object\n",
    "\n",
    "            thisConf =  model.predict_proba(test_data)\n",
    "            message = '{' + '\"someId\": \"{}\", \"Confidence\": \"{}\", \"Result\": \"{}\"'.format(applicationids[i],thisConf[0], outcome) + '}'\n",
    "            log_it(service, message,'RESULT')\n",
    "\n",
    "         # Create a json object to return\n",
    "      \n",
    "        messageEnd = '{' + '\"someId\":\"{}\", \"Event\":\"{}\"'.format(applicationids, 'Scoring Completed') + '}'\n",
    "        log_it(service,messageEnd,'PASS')\n",
    "\n",
    "        return y_hat\n",
    "    except Exception as e:\n",
    "        try:\n",
    "            \n",
    "            messageException = '{' + '\"Exception\":\"{}\", \"someId\":\"{}\", \"RawData\":{}'.format(e, application_ids, raw_data) + '}'\n",
    "            log_it(service, messageException, \"ERROR\")\n",
    "            y_hat_safe = []\n",
    "            for appid in applicationids:\n",
    "                y_hat_safe.append({\"someId\":str(appid), \"isReject\":True})\n",
    "            return y_hat_safe\n",
    "        except Exception as e2:\n",
    "            # this block will only get activated if there is an error with parsing the json at the start of the modelling process\n",
    "            messageException = '{' + '\"Exception\":\"{}\", \"someId\":\"{}\", \"RawData\":{}'.format(e, np.nan, raw_data) + '}'\n",
    "            log_it(service, messageException, \"ERROR\")\n",
    "            y_hat_safe = {\"someId\":np.nan, \"isReject\":True}\n",
    "            return y_hat_safe\n",
    "\n"
   ]
  },
  {
   "cell_type": "markdown",
   "metadata": {},
   "source": [
    "# Deploy the service"
   ]
  },
  {
   "cell_type": "markdown",
   "metadata": {},
   "source": [
    "## Create and check you enviroment file"
   ]
  },
  {
   "cell_type": "code",
   "execution_count": null,
   "metadata": {},
   "outputs": [],
   "source": [
    "from azureml.core.conda_dependencies import CondaDependencies \n",
    "\n",
    "myenv = CondaDependencies()\n",
    "myenv.add_conda_package(\"scikit-learn==0.19.2\")\n",
    "myenv.add_conda_package(\"xgboost==0.90\")\n",
    "myenv.add_conda_package(\"catboost==0.22\")\n",
    "\n",
    "with open(\"myenv.yml\",\"w\") as f:\n",
    "    f.write(myenv.serialize_to_string())"
   ]
  },
  {
   "cell_type": "code",
   "execution_count": null,
   "metadata": {},
   "outputs": [],
   "source": [
    "with open(\"myenv.yml\",\"r\") as f:\n",
    "    print(f.read())"
   ]
  },
  {
   "cell_type": "code",
   "execution_count": null,
   "metadata": {},
   "outputs": [],
   "source": [
    "#service.delete()"
   ]
  },
  {
   "cell_type": "code",
   "execution_count": null,
   "metadata": {},
   "outputs": [],
   "source": [
    "display(serviceName)\n",
    "display(ws)"
   ]
  },
  {
   "cell_type": "code",
   "execution_count": null,
   "metadata": {},
   "outputs": [],
   "source": [
    "service = Webservice(ws, serviceName)\n",
    "service"
   ]
  },
  {
   "cell_type": "markdown",
   "metadata": {},
   "source": [
    "## Specify the aci configuration"
   ]
  },
  {
   "cell_type": "code",
   "execution_count": null,
   "metadata": {},
   "outputs": [],
   "source": [
    "from azureml.core.webservice import AciWebservice\n",
    "\n",
    "aciconfig = AciWebservice.deploy_configuration(cpu_cores=1, \n",
    "                                               memory_gb=2, \n",
    "                                               #tags={\"data\": \"N/A\",  \"method\" : \"sklearn\"}, \n",
    "                                               description=serviceDescription,\n",
    "                                               auth_enabled=True,\n",
    "                                               enable_app_insights=True) "
   ]
  },
  {
   "cell_type": "markdown",
   "metadata": {},
   "source": [
    "## Deploy the service for the first time or update the same endpoint"
   ]
  },
  {
   "cell_type": "code",
   "execution_count": null,
   "metadata": {},
   "outputs": [],
   "source": [
    "%%time\n",
    "from azureml.core.webservice import Webservice\n",
    "from azureml.core.model import InferenceConfig\n",
    "from azureml.core.image import Image\n",
    "\n",
    "inference_config = InferenceConfig(runtime= \"python\", \n",
    "                                   entry_script=\"score.py\",\n",
    "                                   conda_file=\"myenv.yml\")\n",
    "\n",
    "\n",
    "# service = Model.deploy(workspace=ws, \n",
    "#                        name=serviceName, \n",
    "#                        models=[model],\n",
    "#                        #models=[model,model_pp],\n",
    "#                        inference_config=inference_config,\n",
    "#                        deployment_config=aciconfig,\n",
    "#                        overwrite=True)\n",
    "\n",
    "# service.wait_for_deployment(show_output=True)\n",
    "\n",
    "############################################################\n",
    "### Use this to update the service\n",
    "############################################################\n",
    "#service = Webservice(ws, serviceName)\n",
    "service.update(\n",
    "    inference_config=inference_config, \n",
    "    enable_app_insights=True, \n",
    "    ssl_enabled=True, \n",
    "    ssl_cert_pem_file=\"cert.pem\", \n",
    "    ssl_key_pem_file=\"key.pem\", \n",
    "    ssl_cname=\"\",)\n",
    "#im = Image(ws,name='e',tags=1)\n",
    "#service.update(image=im)\n",
    "\n",
    "service.wait_for_deployment(show_output=True)\n",
    "\n",
    "############################################################\n",
    "### If you want to point to the service use this\n",
    "### useful if restart the kernal :)\n",
    "############################################################\n",
    "#service = Webservice(ws, '')\n",
    "\n",
    "\n",
    "print(\"Successfully deployed the ACI service\")\n",
    "print('Service status:',service.state)\n",
    "key, secondary = service.get_keys()\n",
    "display(service.scoring_uri)\n",
    "display(key)\n",
    "display(secondary)\n",
    "service"
   ]
  },
  {
   "cell_type": "code",
   "execution_count": null,
   "metadata": {},
   "outputs": [],
   "source": [
    "#service.delete()"
   ]
  },
  {
   "cell_type": "code",
   "execution_count": null,
   "metadata": {},
   "outputs": [],
   "source": [
    "key, secondary = service.get_keys()\n",
    "display(service.scoring_uri)\n",
    "display(key)\n",
    "display(secondary)\n",
    "service"
   ]
  },
  {
   "cell_type": "code",
   "execution_count": null,
   "metadata": {},
   "outputs": [],
   "source": []
  }
 ],
 "metadata": {
  "kernelspec": {
   "display_name": "intent_model",
   "language": "python",
   "name": "intent_score"
  },
  "language_info": {
   "codemirror_mode": {
    "name": "ipython",
    "version": 3
   },
   "file_extension": ".py",
   "mimetype": "text/x-python",
   "name": "python",
   "nbconvert_exporter": "python",
   "pygments_lexer": "ipython3",
   "version": "3.6.12"
  }
 },
 "nbformat": 4,
 "nbformat_minor": 4
}
